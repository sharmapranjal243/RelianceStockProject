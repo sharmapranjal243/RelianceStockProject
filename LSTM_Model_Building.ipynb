{
 "cells": [
  {
   "cell_type": "code",
   "execution_count": 1,
   "id": "ea14c048",
   "metadata": {
    "scrolled": true
   },
   "outputs": [],
   "source": [
    "\n",
    "import numpy as np \n",
    "import pandas as pd \n",
    "import matplotlib.pyplot as plt \n",
    "import seaborn as sns \n",
    "import yfinance as yf\n",
    "from sklearn.preprocessing import MinMaxScaler,StandardScaler\n",
    "from keras.models import Sequential\n",
    "from keras.layers import Dense,LSTM,Dropout,GRU\n",
    "import math\n",
    "from sklearn.metrics import mean_squared_error\n",
    "import warnings\n",
    "warnings.filterwarnings(\"ignore\")\n",
    "import plotly.graph_objects as go\n",
    "import plotly.express as px\n",
    "import datetime"
   ]
  },
  {
   "cell_type": "code",
   "execution_count": 2,
   "id": "ed1ec422",
   "metadata": {},
   "outputs": [
    {
     "name": "stdout",
     "output_type": "stream",
     "text": [
      "[*********************100%***********************]  1 of 1 completed\n"
     ]
    },
    {
     "data": {
      "text/html": [
       "<div>\n",
       "<style scoped>\n",
       "    .dataframe tbody tr th:only-of-type {\n",
       "        vertical-align: middle;\n",
       "    }\n",
       "\n",
       "    .dataframe tbody tr th {\n",
       "        vertical-align: top;\n",
       "    }\n",
       "\n",
       "    .dataframe thead th {\n",
       "        text-align: right;\n",
       "    }\n",
       "</style>\n",
       "<table border=\"1\" class=\"dataframe\">\n",
       "  <thead>\n",
       "    <tr style=\"text-align: right;\">\n",
       "      <th></th>\n",
       "      <th>Open</th>\n",
       "      <th>High</th>\n",
       "      <th>Low</th>\n",
       "      <th>Close</th>\n",
       "      <th>Adj Close</th>\n",
       "      <th>Volume</th>\n",
       "    </tr>\n",
       "    <tr>\n",
       "      <th>Date</th>\n",
       "      <th></th>\n",
       "      <th></th>\n",
       "      <th></th>\n",
       "      <th></th>\n",
       "      <th></th>\n",
       "      <th></th>\n",
       "    </tr>\n",
       "  </thead>\n",
       "  <tbody>\n",
       "    <tr>\n",
       "      <th>2015-01-01 00:00:00+05:30</th>\n",
       "      <td>438.988831</td>\n",
       "      <td>441.812073</td>\n",
       "      <td>437.676270</td>\n",
       "      <td>439.781311</td>\n",
       "      <td>417.988892</td>\n",
       "      <td>1367720</td>\n",
       "    </tr>\n",
       "    <tr>\n",
       "      <th>2015-01-02 00:00:00+05:30</th>\n",
       "      <td>439.880371</td>\n",
       "      <td>443.818054</td>\n",
       "      <td>437.998199</td>\n",
       "      <td>438.617340</td>\n",
       "      <td>416.882629</td>\n",
       "      <td>3383424</td>\n",
       "    </tr>\n",
       "    <tr>\n",
       "      <th>2015-01-05 00:00:00+05:30</th>\n",
       "      <td>438.344940</td>\n",
       "      <td>441.267212</td>\n",
       "      <td>432.946106</td>\n",
       "      <td>433.812897</td>\n",
       "      <td>412.316254</td>\n",
       "      <td>4662967</td>\n",
       "    </tr>\n",
       "    <tr>\n",
       "      <th>2015-01-06 00:00:00+05:30</th>\n",
       "      <td>430.915344</td>\n",
       "      <td>432.401276</td>\n",
       "      <td>412.093750</td>\n",
       "      <td>414.124512</td>\n",
       "      <td>393.603485</td>\n",
       "      <td>8596809</td>\n",
       "    </tr>\n",
       "    <tr>\n",
       "      <th>2015-01-07 00:00:00+05:30</th>\n",
       "      <td>414.619812</td>\n",
       "      <td>425.367950</td>\n",
       "      <td>414.570282</td>\n",
       "      <td>423.139069</td>\n",
       "      <td>402.171326</td>\n",
       "      <td>9562421</td>\n",
       "    </tr>\n",
       "    <tr>\n",
       "      <th>...</th>\n",
       "      <td>...</td>\n",
       "      <td>...</td>\n",
       "      <td>...</td>\n",
       "      <td>...</td>\n",
       "      <td>...</td>\n",
       "      <td>...</td>\n",
       "    </tr>\n",
       "    <tr>\n",
       "      <th>2023-01-23 00:00:00+05:30</th>\n",
       "      <td>2449.000000</td>\n",
       "      <td>2466.199951</td>\n",
       "      <td>2425.000000</td>\n",
       "      <td>2430.300049</td>\n",
       "      <td>2430.300049</td>\n",
       "      <td>5055324</td>\n",
       "    </tr>\n",
       "    <tr>\n",
       "      <th>2023-01-24 00:00:00+05:30</th>\n",
       "      <td>2440.000000</td>\n",
       "      <td>2443.649902</td>\n",
       "      <td>2387.350098</td>\n",
       "      <td>2415.949951</td>\n",
       "      <td>2415.949951</td>\n",
       "      <td>7609558</td>\n",
       "    </tr>\n",
       "    <tr>\n",
       "      <th>2023-01-25 00:00:00+05:30</th>\n",
       "      <td>2412.449951</td>\n",
       "      <td>2414.699951</td>\n",
       "      <td>2380.000000</td>\n",
       "      <td>2382.550049</td>\n",
       "      <td>2382.550049</td>\n",
       "      <td>5715684</td>\n",
       "    </tr>\n",
       "    <tr>\n",
       "      <th>2023-01-27 00:00:00+05:30</th>\n",
       "      <td>2384.399902</td>\n",
       "      <td>2387.350098</td>\n",
       "      <td>2311.649902</td>\n",
       "      <td>2337.350098</td>\n",
       "      <td>2337.350098</td>\n",
       "      <td>11920991</td>\n",
       "    </tr>\n",
       "    <tr>\n",
       "      <th>2023-01-30 00:00:00+05:30</th>\n",
       "      <td>2331.699951</td>\n",
       "      <td>2371.899902</td>\n",
       "      <td>2301.000000</td>\n",
       "      <td>2359.750000</td>\n",
       "      <td>2359.750000</td>\n",
       "      <td>10047822</td>\n",
       "    </tr>\n",
       "  </tbody>\n",
       "</table>\n",
       "<p>1996 rows × 6 columns</p>\n",
       "</div>"
      ],
      "text/plain": [
       "                                  Open         High          Low        Close  \\\n",
       "Date                                                                            \n",
       "2015-01-01 00:00:00+05:30   438.988831   441.812073   437.676270   439.781311   \n",
       "2015-01-02 00:00:00+05:30   439.880371   443.818054   437.998199   438.617340   \n",
       "2015-01-05 00:00:00+05:30   438.344940   441.267212   432.946106   433.812897   \n",
       "2015-01-06 00:00:00+05:30   430.915344   432.401276   412.093750   414.124512   \n",
       "2015-01-07 00:00:00+05:30   414.619812   425.367950   414.570282   423.139069   \n",
       "...                                ...          ...          ...          ...   \n",
       "2023-01-23 00:00:00+05:30  2449.000000  2466.199951  2425.000000  2430.300049   \n",
       "2023-01-24 00:00:00+05:30  2440.000000  2443.649902  2387.350098  2415.949951   \n",
       "2023-01-25 00:00:00+05:30  2412.449951  2414.699951  2380.000000  2382.550049   \n",
       "2023-01-27 00:00:00+05:30  2384.399902  2387.350098  2311.649902  2337.350098   \n",
       "2023-01-30 00:00:00+05:30  2331.699951  2371.899902  2301.000000  2359.750000   \n",
       "\n",
       "                             Adj Close    Volume  \n",
       "Date                                              \n",
       "2015-01-01 00:00:00+05:30   417.988892   1367720  \n",
       "2015-01-02 00:00:00+05:30   416.882629   3383424  \n",
       "2015-01-05 00:00:00+05:30   412.316254   4662967  \n",
       "2015-01-06 00:00:00+05:30   393.603485   8596809  \n",
       "2015-01-07 00:00:00+05:30   402.171326   9562421  \n",
       "...                                ...       ...  \n",
       "2023-01-23 00:00:00+05:30  2430.300049   5055324  \n",
       "2023-01-24 00:00:00+05:30  2415.949951   7609558  \n",
       "2023-01-25 00:00:00+05:30  2382.550049   5715684  \n",
       "2023-01-27 00:00:00+05:30  2337.350098  11920991  \n",
       "2023-01-30 00:00:00+05:30  2359.750000  10047822  \n",
       "\n",
       "[1996 rows x 6 columns]"
      ]
     },
     "execution_count": 2,
     "metadata": {},
     "output_type": "execute_result"
    }
   ],
   "source": [
    "reliance_stock_market_data=yf.download(tickers=\"RELIANCE.NS\",start=\"2015-01-01\",end=\"2023-01-31\")\n",
    "reliance_stock_market_data"
   ]
  },
  {
   "cell_type": "code",
   "execution_count": 3,
   "id": "5332ec4b",
   "metadata": {
    "scrolled": true
   },
   "outputs": [
    {
     "data": {
      "text/plain": [
       "Date\n",
       "2015-01-01 00:00:00+05:30     439.781311\n",
       "2015-01-02 00:00:00+05:30     438.617340\n",
       "2015-01-05 00:00:00+05:30     433.812897\n",
       "2015-01-06 00:00:00+05:30     414.124512\n",
       "2015-01-07 00:00:00+05:30     423.139069\n",
       "                                ...     \n",
       "2023-01-23 00:00:00+05:30    2430.300049\n",
       "2023-01-24 00:00:00+05:30    2415.949951\n",
       "2023-01-25 00:00:00+05:30    2382.550049\n",
       "2023-01-27 00:00:00+05:30    2337.350098\n",
       "2023-01-30 00:00:00+05:30    2359.750000\n",
       "Name: Close, Length: 1996, dtype: float64"
      ]
     },
     "execution_count": 3,
     "metadata": {},
     "output_type": "execute_result"
    }
   ],
   "source": [
    "closing_amount=reliance_stock_market_data[\"Close\"]\n",
    "closing_amount"
   ]
  },
  {
   "cell_type": "code",
   "execution_count": 4,
   "id": "a8a59c56",
   "metadata": {},
   "outputs": [
    {
     "data": {
      "text/plain": [
       "(1996,)"
      ]
     },
     "execution_count": 4,
     "metadata": {},
     "output_type": "execute_result"
    }
   ],
   "source": [
    "closing_amount.shape"
   ]
  },
  {
   "cell_type": "code",
   "execution_count": 5,
   "id": "fa85ecdc",
   "metadata": {},
   "outputs": [],
   "source": [
    "scaler=MinMaxScaler()\n",
    "closing_amount_scaled=scaler.fit_transform(np.array(closing_amount).reshape(-1,1))"
   ]
  },
  {
   "cell_type": "code",
   "execution_count": 6,
   "id": "955a525d",
   "metadata": {},
   "outputs": [
    {
     "data": {
      "text/plain": [
       "(1996, 1)"
      ]
     },
     "execution_count": 6,
     "metadata": {},
     "output_type": "execute_result"
    }
   ],
   "source": [
    "closing_amount_scaled.shape"
   ]
  },
  {
   "cell_type": "code",
   "execution_count": 7,
   "id": "471f44ff",
   "metadata": {},
   "outputs": [
    {
     "data": {
      "text/plain": [
       "(1697, 299)"
      ]
     },
     "execution_count": 7,
     "metadata": {},
     "output_type": "execute_result"
    }
   ],
   "source": [
    "train_data_length=math.ceil(len(closing_amount_scaled)*0.85)\n",
    "test_data_length=len(closing_amount_scaled)-train_data_length\n",
    "train_data_length,test_data_length"
   ]
  },
  {
   "cell_type": "code",
   "execution_count": 8,
   "id": "f505746f",
   "metadata": {},
   "outputs": [
    {
     "data": {
      "text/plain": [
       "((1697, 1), (299, 1))"
      ]
     },
     "execution_count": 8,
     "metadata": {},
     "output_type": "execute_result"
    }
   ],
   "source": [
    "train_data=closing_amount_scaled[:train_data_length,:]\n",
    "test_data=closing_amount_scaled[train_data_length:len(closing_amount_scaled),:]\n",
    "train_data.shape,test_data.shape"
   ]
  },
  {
   "cell_type": "code",
   "execution_count": 9,
   "id": "1d4a85b9",
   "metadata": {},
   "outputs": [],
   "source": [
    "def create_dataset(dataset,time_step=1):\n",
    "    dataX,dataY=[],[]\n",
    "    for i in range(len(dataset)-time_step-1):\n",
    "        a=dataset[i:(i+time_step),0]\n",
    "        dataX.append(a)\n",
    "        dataY.append(dataset[i+time_step,0])\n",
    "    return np.array(dataX),np.array(dataY)"
   ]
  },
  {
   "cell_type": "code",
   "execution_count": 10,
   "id": "c77c2bea",
   "metadata": {},
   "outputs": [],
   "source": [
    "time_step=30\n",
    "x_train,y_train=create_dataset(train_data,time_step)\n",
    "x_test,y_test=create_dataset(test_data,time_step)"
   ]
  },
  {
   "cell_type": "code",
   "execution_count": 11,
   "id": "b5ce2e32",
   "metadata": {},
   "outputs": [
    {
     "data": {
      "text/plain": [
       "((1666, 30), (1666,), (268, 30), (268,))"
      ]
     },
     "execution_count": 11,
     "metadata": {},
     "output_type": "execute_result"
    }
   ],
   "source": [
    "x_train.shape,y_train.shape,x_test.shape,y_test.shape"
   ]
  },
  {
   "cell_type": "code",
   "execution_count": 12,
   "id": "2ee8e3cb",
   "metadata": {},
   "outputs": [
    {
     "data": {
      "text/plain": [
       "((1666, 30, 1), (268, 30, 1))"
      ]
     },
     "execution_count": 12,
     "metadata": {},
     "output_type": "execute_result"
    }
   ],
   "source": [
    "x_train=x_train.reshape(x_train.shape[0],x_train.shape[1],1)\n",
    "x_test=x_test.reshape(x_test.shape[0],x_test.shape[1],1)\n",
    "x_train.shape,x_test.shape"
   ]
  },
  {
   "cell_type": "code",
   "execution_count": 13,
   "id": "da481bd9",
   "metadata": {},
   "outputs": [],
   "source": [
    "model=Sequential()\n",
    "model.add(LSTM(units=128,return_sequences=True,input_shape=(x_train.shape[1],1)))\n",
    "model.add(Dropout(0.1))\n",
    "model.add(LSTM(units=128,return_sequences=True))\n",
    "model.add(Dropout(0.1))\n",
    "model.add(LSTM(units=128))\n",
    "model.add(Dense(1))"
   ]
  },
  {
   "cell_type": "code",
   "execution_count": 14,
   "id": "ffac1bab",
   "metadata": {},
   "outputs": [],
   "source": [
    "model.compile(optimizer=\"adam\",loss=\"mean_squared_error\")"
   ]
  },
  {
   "cell_type": "code",
   "execution_count": 15,
   "id": "da2e7ba8",
   "metadata": {},
   "outputs": [
    {
     "data": {
      "text/plain": [
       "((1666, 30, 1), (1666,))"
      ]
     },
     "execution_count": 15,
     "metadata": {},
     "output_type": "execute_result"
    }
   ],
   "source": [
    "x_train.shape,y_train.shape"
   ]
  },
  {
   "cell_type": "code",
   "execution_count": null,
   "id": "b07f5adf",
   "metadata": {},
   "outputs": [
    {
     "name": "stdout",
     "output_type": "stream",
     "text": [
      "Epoch 1/10\n",
      "34/34 [==============================] - 28s 352ms/step - loss: 0.0135 - val_loss: 0.0047\n",
      "Epoch 2/10\n",
      "34/34 [==============================] - 9s 258ms/step - loss: 0.0011 - val_loss: 0.0018\n",
      "Epoch 3/10\n",
      "34/34 [==============================] - 9s 260ms/step - loss: 8.0927e-04 - val_loss: 0.0018\n",
      "Epoch 4/10\n",
      "34/34 [==============================] - 9s 252ms/step - loss: 8.0771e-04 - val_loss: 0.0018\n",
      "Epoch 5/10\n",
      "34/34 [==============================] - 8s 249ms/step - loss: 7.3226e-04 - val_loss: 0.0026\n",
      "Epoch 6/10\n",
      "34/34 [==============================] - 9s 272ms/step - loss: 8.4323e-04 - val_loss: 0.0022\n",
      "Epoch 7/10\n",
      "34/34 [==============================] - 9s 272ms/step - loss: 8.7551e-04 - val_loss: 0.0017\n",
      "Epoch 8/10\n",
      "34/34 [==============================] - 9s 266ms/step - loss: 7.1355e-04 - val_loss: 0.0017\n",
      "Epoch 9/10\n",
      "34/34 [==============================] - 9s 267ms/step - loss: 7.1724e-04 - val_loss: 0.0018\n",
      "Epoch 10/10\n",
      "21/34 [=================>............] - ETA: 3s - loss: 7.3680e-04"
     ]
    }
   ],
   "source": [
    "model.fit(x=x_train,y=y_train,batch_size=50,epochs=10,validation_data=(x_test,y_test))"
   ]
  },
  {
   "cell_type": "code",
   "execution_count": null,
   "id": "86e2a4fa",
   "metadata": {},
   "outputs": [],
   "source": [
    "pred_train=model.predict(x_train)\n",
    "pred_test=model.predict(x_test)\n",
    "pred_train.shape,pred_test.shape"
   ]
  },
  {
   "cell_type": "code",
   "execution_count": null,
   "id": "3c6c4dff",
   "metadata": {},
   "outputs": [],
   "source": [
    "pred_train=scaler.inverse_transform(pred_train)\n",
    "pred_test=scaler.inverse_transform(pred_test)\n",
    "pred_train.shape,pred_test.shape "
   ]
  },
  {
   "cell_type": "code",
   "execution_count": null,
   "id": "99473741",
   "metadata": {},
   "outputs": [],
   "source": [
    "pred_train"
   ]
  },
  {
   "cell_type": "code",
   "execution_count": null,
   "id": "9124945f",
   "metadata": {},
   "outputs": [],
   "source": [
    "y_train_actual=scaler.inverse_transform(y_train.reshape(-1,1))\n",
    "y_test_actual=scaler.inverse_transform(y_test.reshape(-1,1))\n",
    "y_train_actual.shape,y_test_actual.shape"
   ]
  },
  {
   "cell_type": "code",
   "execution_count": null,
   "id": "fd00b4b8",
   "metadata": {},
   "outputs": [],
   "source": [
    "y_train_actual"
   ]
  },
  {
   "cell_type": "code",
   "execution_count": null,
   "id": "f82da838",
   "metadata": {},
   "outputs": [],
   "source": [
    "rmse_train=math.sqrt(mean_squared_error(y_train_actual,pred_train))\n",
    "rmse_test=math.sqrt(mean_squared_error(y_test_actual,pred_test))\n",
    "rmse_train,rmse_test"
   ]
  },
  {
   "cell_type": "code",
   "execution_count": null,
   "id": "e370bb37",
   "metadata": {},
   "outputs": [],
   "source": [
    "input_data = test_data[len(test_data)-time_step:].reshape(1,-1)\n",
    "\n",
    "temp_input_data = input_data.tolist()\n",
    "\n",
    "temp_input_data = temp_input_data[0]\n",
    "\n",
    "output_data=[]\n",
    "\n",
    "i = 0\n",
    "\n",
    "prediction_days = 30\n",
    "\n",
    "while(i<prediction_days):\n",
    "    \n",
    "    if(len(temp_input_data)>time_step):\n",
    "        input_data=np.array(temp_input_data[1:])\n",
    "        input_data=input_data.reshape(1,-1)\n",
    "        input_data=input_data.reshape(1,time_step,1)\n",
    "        predicted_data=model.predict(input_data,verbose=0)\n",
    "        temp_input_data.extend(predicted_data[0].tolist())\n",
    "        temp_input_data=temp_input_data[1:]\n",
    "        output_data.extend(predicted_data.tolist())\n",
    "        i+=1\n",
    "    else:\n",
    "        input_data=input_data.reshape(1,time_step,1)\n",
    "        predicted_data=model.predict(input_data,verbose=0)\n",
    "        temp_input_data.extend(predicted_data[0].tolist())\n",
    "        output_data.extend(predicted_data.tolist())\n",
    "        i+=1\n",
    "        \n",
    "print(len(output_data))"
   ]
  },
  {
   "cell_type": "code",
   "execution_count": null,
   "id": "274f1b9e",
   "metadata": {},
   "outputs": [],
   "source": [
    "future_data=scaler.inverse_transform(output_data).reshape(1,-1).tolist()[0]"
   ]
  },
  {
   "cell_type": "code",
   "execution_count": null,
   "id": "9c042769",
   "metadata": {
    "scrolled": true
   },
   "outputs": [],
   "source": [
    "future_days_closing_price=pd.DataFrame({\"Predictions\":future_data})\n",
    "future_days_closing_price"
   ]
  },
  {
   "cell_type": "code",
   "execution_count": null,
   "id": "e45eed35",
   "metadata": {},
   "outputs": [],
   "source": []
  },
  {
   "cell_type": "code",
   "execution_count": null,
   "id": "078c00f0",
   "metadata": {},
   "outputs": [],
   "source": []
  }
 ],
 "metadata": {
  "kernelspec": {
   "display_name": "Python 3 (ipykernel)",
   "language": "python",
   "name": "python3"
  },
  "language_info": {
   "codemirror_mode": {
    "name": "ipython",
    "version": 3
   },
   "file_extension": ".py",
   "mimetype": "text/x-python",
   "name": "python",
   "nbconvert_exporter": "python",
   "pygments_lexer": "ipython3",
   "version": "3.9.13"
  }
 },
 "nbformat": 4,
 "nbformat_minor": 5
}
